{
 "cells": [
  {
   "cell_type": "markdown",
   "metadata": {},
   "source": [
    "# Health Stats Part 3: Waist 2 Hip Ratios"
   ]
  },
  {
   "cell_type": "markdown",
   "metadata": {},
   "source": [
    "<!--- Write an explanation of the Waist To Hips Ratio statistic used by health professionals. Please include an explanation of what it is used for, exactly how it is calculated, and how to interpret the results. Note: Formmatting matters. Make this as professional as you can using Markdown.  --->\n",
    "EDIT THIS MARKDOWN CELL"
   ]
  },
  {
   "cell_type": "markdown",
   "metadata": {},
   "source": [
    "## Source Data "
   ]
  },
  {
   "cell_type": "markdown",
   "metadata": {},
   "source": [
    "<!--- Replace the text below with a Markdown bullet list that defines the columns of the CSV file. Be sure to indicate the data type for each column. --->\n",
    "EDIT THIS MARKDOWN CELL"
   ]
  },
  {
   "cell_type": "markdown",
   "metadata": {},
   "source": [
    "## Data Import"
   ]
  },
  {
   "cell_type": "code",
   "execution_count": 8,
   "metadata": {},
   "outputs": [
    {
     "name": "stdout",
     "output_type": "stream",
     "text": [
      "    ID  Waist   Hip Gender\n",
      "0    1   30.0  32.0      M\n",
      "1    2   32.0  37.0      M\n",
      "2    3   30.0  36.0      M\n",
      "3    4   33.0  39.0      M\n",
      "4    5   29.0  33.0      M\n",
      "5    6   32.0  38.0      M\n",
      "6    7   33.0  42.0      M\n",
      "7    8   30.0  40.0      M\n",
      "8    9   30.0  37.0      M\n",
      "9   10   32.0  39.0      M\n",
      "10  11   24.0  35.0      F\n",
      "11  12   25.0  37.0      F\n",
      "12  13   24.0  37.0      F\n",
      "13  14   22.0  34.0      F\n",
      "14  15   26.0  38.0      F\n",
      "15  16   26.0  37.0      F\n",
      "16  17   25.0  38.0      F\n",
      "17  18   26.0  37.0      F\n",
      "18  19   28.0  40.0      F\n",
      "19  20   23.0  35.0      F\n"
     ]
    }
   ],
   "source": [
    "# Goal: Extract the data from the file\n",
    "\n",
    "import numpy as np\n",
    "import pandas as pd\n",
    "\n",
    "\n",
    "data = pd.read_csv((\"w2h_data.csv\"), dtype = {\"ID\": np.int, \"Waist\": np.float, \"Hip\": np.float, \"Gender\": np.str})\n",
    "print(data)"
   ]
  },
  {
   "cell_type": "markdown",
   "metadata": {},
   "source": [
    "## Calculations"
   ]
  },
  {
   "cell_type": "code",
   "execution_count": 18,
   "metadata": {},
   "outputs": [
    {
     "name": "stdout",
     "output_type": "stream",
     "text": [
      "0     0.937500\n",
      "1     0.864865\n",
      "2     0.833333\n",
      "3     0.846154\n",
      "4     0.878788\n",
      "5     0.842105\n",
      "6     0.785714\n",
      "7     0.750000\n",
      "8     0.810811\n",
      "9     0.820513\n",
      "10    0.685714\n",
      "11    0.675676\n",
      "12    0.648649\n",
      "13    0.647059\n",
      "14    0.684211\n",
      "15    0.702703\n",
      "16    0.657895\n",
      "17    0.702703\n",
      "18    0.700000\n",
      "19    0.657143\n",
      "dtype: float64\n"
     ]
    }
   ],
   "source": [
    "##Calculations, based on DataFrame\n",
    "\n",
    "#calculated the w2h_ratios, using the determined formula\n",
    "w2h_ratios = data['Waist']/data['Hip']\n",
    "print(w2h_ratios)\n",
    "\n",
    "#Added in the w2h_Ratio column\n",
    "data['w2h_ratios'] = pd.Series(w2h_ratios)\n",
    "#print(data)\n",
    "\n",
    "#Now, we'll try to create a column that calculates shape.\n",
    "\n",
    "# determine who is male (True) or female (False)\n",
    "males = (data['Gender']=='M')\n",
    "\n",
    "# males with w2h ration > 0.9 are apple shaped\n",
    "male_apples = np.logical_and((w2h_ratios>0.9),males)\n",
    "\n",
    "# females with w2h ratio > 0.8 are apple shaped\n",
    "female_apples = np.logical_and((w2h_ratios>0.8),np.logical_not(males))\n",
    "\n",
    "# combines the male_apples and female_apples\n",
    "apples=np.logical_or(male_apples,female_apples)\n",
    "\n",
    "# works like an if then else statement\n",
    "shapes=np.where(apples,'Apple','Pear')\n",
    "\n",
    "#Now we add and print it...\n",
    "data['Shape'] = pd.Series(shapes)\n",
    "print(data)\n",
    "\n",
    "#Now we'll make it pretty...\n",
    "data.style"
   ]
  },
  {
   "cell_type": "code",
   "execution_count": 19,
   "metadata": {
    "scrolled": true
   },
   "outputs": [
    {
     "name": "stdout",
     "output_type": "stream",
     "text": [
      "[( 0,  1,  30.,  32., 'M',  0.9375    , 'Apple')\n",
      " ( 1,  2,  32.,  37., 'M',  0.86486486, 'Pear')\n",
      " ( 2,  3,  30.,  36., 'M',  0.83333333, 'Pear')\n",
      " ( 3,  4,  33.,  39., 'M',  0.84615385, 'Pear')\n",
      " ( 4,  5,  29.,  33., 'M',  0.87878788, 'Pear')\n",
      " ( 5,  6,  32.,  38., 'M',  0.84210526, 'Pear')\n",
      " ( 6,  7,  33.,  42., 'M',  0.78571429, 'Pear')\n",
      " ( 7,  8,  30.,  40., 'M',  0.75      , 'Pear')\n",
      " ( 8,  9,  30.,  37., 'M',  0.81081081, 'Pear')\n",
      " ( 9, 10,  32.,  39., 'M',  0.82051282, 'Pear')\n",
      " (10, 11,  24.,  35., 'F',  0.68571429, 'Pear')\n",
      " (11, 12,  25.,  37., 'F',  0.67567568, 'Pear')\n",
      " (12, 13,  24.,  37., 'F',  0.64864865, 'Pear')\n",
      " (13, 14,  22.,  34., 'F',  0.64705882, 'Pear')\n",
      " (14, 15,  26.,  38., 'F',  0.68421053, 'Pear')\n",
      " (15, 16,  26.,  37., 'F',  0.7027027 , 'Pear')\n",
      " (16, 17,  25.,  38., 'F',  0.65789474, 'Pear')\n",
      " (17, 18,  26.,  37., 'F',  0.7027027 , 'Pear')\n",
      " (18, 19,  28.,  40., 'F',  0.7       , 'Pear')\n",
      " (19, 20,  23.,  35., 'F',  0.65714286, 'Pear')]\n"
     ]
    },
    {
     "ename": "ValueError",
     "evalue": "field 'Shape' occurs more than once",
     "output_type": "error",
     "traceback": [
      "\u001b[1;31m---------------------------------------------------------------------------\u001b[0m",
      "\u001b[1;31mValueError\u001b[0m                                Traceback (most recent call last)",
      "\u001b[1;32m<ipython-input-19-179a49bc3377>\u001b[0m in \u001b[0;36m<module>\u001b[1;34m()\u001b[0m\n\u001b[0;32m     25\u001b[0m \u001b[1;33m\u001b[0m\u001b[0m\n\u001b[0;32m     26\u001b[0m \u001b[1;31m# add the two new columns to the dtype descriptor\u001b[0m\u001b[1;33m\u001b[0m\u001b[1;33m\u001b[0m\u001b[0m\n\u001b[1;32m---> 27\u001b[1;33m \u001b[0mdt\u001b[0m \u001b[1;33m=\u001b[0m \u001b[0mnp\u001b[0m\u001b[1;33m.\u001b[0m\u001b[0mdtype\u001b[0m\u001b[1;33m(\u001b[0m\u001b[0mdata_recarray\u001b[0m\u001b[1;33m.\u001b[0m\u001b[0mdtype\u001b[0m\u001b[1;33m.\u001b[0m\u001b[0mdescr\u001b[0m \u001b[1;33m+\u001b[0m \u001b[1;33m[\u001b[0m\u001b[1;33m(\u001b[0m\u001b[1;34m'W2H Ratio'\u001b[0m\u001b[1;33m,\u001b[0m\u001b[0mfloat\u001b[0m\u001b[1;33m)\u001b[0m\u001b[1;33m,\u001b[0m\u001b[1;33m(\u001b[0m\u001b[1;34m'Shape'\u001b[0m\u001b[1;33m,\u001b[0m\u001b[1;34m'U5'\u001b[0m\u001b[1;33m)\u001b[0m\u001b[1;33m]\u001b[0m\u001b[1;33m)\u001b[0m\u001b[1;33m\u001b[0m\u001b[0m\n\u001b[0m\u001b[0;32m     28\u001b[0m \u001b[1;33m\u001b[0m\u001b[0m\n\u001b[0;32m     29\u001b[0m \u001b[1;31m# create a new results array with the same number of data_recarray and the new dtype\u001b[0m\u001b[1;33m\u001b[0m\u001b[1;33m\u001b[0m\u001b[0m\n",
      "\u001b[1;31mValueError\u001b[0m: field 'Shape' occurs more than once"
     ]
    }
   ],
   "source": [
    "# Goal: Create a new array and name it data_recarray.\n",
    "data_recarray = data.to_records()\n",
    "print(data_recarray)\n",
    "\n",
    "# Goal: For each row of data calculate and store the w2h_ratio and shape.\n",
    "w2h_ratios = data_recarray['Waist']/data_recarray['Hip']\n",
    "#print(w2h_ratios)\n",
    "\n",
    "# determine who is male (True) or female (False)\n",
    "males = (data_recarray['Gender']=='M')\n",
    "\n",
    "# males with w2h ration > 0.9 are apple shaped\n",
    "male_apples = np.logical_and((w2h_ratios>0.9),males)\n",
    "\n",
    "# females with w2h ratio > 0.8 are apple shaped\n",
    "female_apples = np.logical_and((w2h_ratios>0.8),np.logical_not(males))\n",
    "\n",
    "# combines the male_apples and female_apples\n",
    "apples=np.logical_or(male_apples,female_apples)\n",
    "\n",
    "# works like an if then else statement\n",
    "shapes=np.where(apples,'Apple','Pear')\n",
    "\n",
    "# The code below creates a new results array \n",
    "\n",
    "# add the two new columns to the dtype descriptor\n",
    "dt = np.dtype(data_recarray.dtype.descr + [('W2H Ratio',float),('Shape','U5')])\n",
    "\n",
    "# create a new results array with the same number of data_recarray and the new dtype\n",
    "results = np.zeros(data_recarray.shape,dtype=dt)\n",
    "\n",
    "## copy over the data_recarray data\n",
    "for c in data_recarray.dtype.names:\n",
    "    results[c]=data_recarray[c]\n",
    "    \n",
    "# add the two new columns\n",
    "results['W2H Ratio']=w2h_ratios\n",
    "results['Shape']=shapes\n",
    "\n",
    "# Now, we show the data! (In a variety of formats.)\n",
    "newdata = pd.DataFrame(results)\n",
    "#print(newdata)\n",
    "newdata.style\n",
    "newdata.to_html(\"StatsResults.html\")\n",
    "newdata.to_csv(\"StatsResults.csv\")"
   ]
  },
  {
   "cell_type": "markdown",
   "metadata": {},
   "source": [
    "## Output"
   ]
  },
  {
   "cell_type": "code",
   "execution_count": 20,
   "metadata": {},
   "outputs": [
    {
     "ename": "NameError",
     "evalue": "name 'results' is not defined",
     "output_type": "error",
     "traceback": [
      "\u001b[1;31m---------------------------------------------------------------------------\u001b[0m",
      "\u001b[1;31mNameError\u001b[0m                                 Traceback (most recent call last)",
      "\u001b[1;32m<ipython-input-20-3cd8bb31803c>\u001b[0m in \u001b[0;36m<module>\u001b[1;34m()\u001b[0m\n\u001b[0;32m      3\u001b[0m \u001b[1;31m# Note: this works, but we can do this much better with pandas\u001b[0m\u001b[1;33m\u001b[0m\u001b[1;33m\u001b[0m\u001b[0m\n\u001b[0;32m      4\u001b[0m \u001b[0mhtml_table\u001b[0m \u001b[1;33m=\u001b[0m \u001b[1;34m'<table><tr><th>'\u001b[0m\u001b[1;33m\u001b[0m\u001b[0m\n\u001b[1;32m----> 5\u001b[1;33m \u001b[0mhtml_table\u001b[0m \u001b[1;33m+=\u001b[0m \u001b[1;34m\"</th><th>\"\u001b[0m\u001b[1;33m.\u001b[0m\u001b[0mjoin\u001b[0m\u001b[1;33m(\u001b[0m\u001b[0mresults\u001b[0m\u001b[1;33m.\u001b[0m\u001b[0mdtype\u001b[0m\u001b[1;33m.\u001b[0m\u001b[0mnames\u001b[0m\u001b[1;33m)\u001b[0m\u001b[1;33m\u001b[0m\u001b[0m\n\u001b[0m\u001b[0;32m      6\u001b[0m \u001b[0mhtml_table\u001b[0m \u001b[1;33m+=\u001b[0m \u001b[1;34m'</th></tr>'\u001b[0m\u001b[1;33m\u001b[0m\u001b[0m\n\u001b[0;32m      7\u001b[0m \u001b[1;32mfor\u001b[0m \u001b[0mrow\u001b[0m \u001b[1;32min\u001b[0m \u001b[0mresults\u001b[0m\u001b[1;33m:\u001b[0m\u001b[1;33m\u001b[0m\u001b[0m\n",
      "\u001b[1;31mNameError\u001b[0m: name 'results' is not defined"
     ]
    }
   ],
   "source": [
    "# Goal: pretty print the rows as an HTML table\n",
    "\n",
    "# Note: this works, but we can do this much better with pandas\n",
    "html_table = '<table><tr><th>'\n",
    "html_table += \"</th><th>\".join(results.dtype.names)\n",
    "html_table += '</th></tr>'\n",
    "for row in results:\n",
    "    html_table += \"<tr><td>\"\n",
    "    html_table += \"</td><td>\".join(str(v) for v in row)\n",
    "    html_table += \"</td></tr>\"\n",
    "html_table += \"</table>\"\n",
    "\n",
    "from IPython.display import HTML, display\n",
    "display(HTML(html_table))\n",
    "\n",
    "# Export to \"StatsResults.csv\"\n",
    "np.savetxt(\"StatsResults.csv\",results,fmt='%s',delimiter=',',header=','.join(results.dtype.names),comments=\"\")"
   ]
  },
  {
   "cell_type": "code",
   "execution_count": null,
   "metadata": {
    "collapsed": true
   },
   "outputs": [],
   "source": []
  },
  {
   "cell_type": "code",
   "execution_count": null,
   "metadata": {
    "collapsed": true
   },
   "outputs": [],
   "source": []
  },
  {
   "cell_type": "code",
   "execution_count": null,
   "metadata": {
    "collapsed": true
   },
   "outputs": [],
   "source": []
  }
 ],
 "metadata": {
  "kernelspec": {
   "display_name": "Python 3",
   "language": "python",
   "name": "python3"
  },
  "language_info": {
   "codemirror_mode": {
    "name": "ipython",
    "version": 3
   },
   "file_extension": ".py",
   "mimetype": "text/x-python",
   "name": "python",
   "nbconvert_exporter": "python",
   "pygments_lexer": "ipython3",
   "version": "3.6.1"
  }
 },
 "nbformat": 4,
 "nbformat_minor": 2
}
